{
 "cells": [
  {
   "cell_type": "markdown",
   "metadata": {
    "deletable": true,
    "editable": true,
    "slideshow": {
     "slide_type": "slide"
    }
   },
   "source": [
    "# Python Packaging for Mere Mortals\n",
    "\n",
    "@just_anr / github.com/justanr\n",
    "\n",
    "@pyatl March 2017"
   ]
  },
  {
   "cell_type": "markdown",
   "metadata": {
    "deletable": true,
    "editable": true,
    "slideshow": {
     "slide_type": "slide"
    }
   },
   "source": [
    "## The matter at hand\n",
    "\n",
    "* Package your code\n",
    "* Publish it on PyPI\n",
    "* So others can use it"
   ]
  },
  {
   "cell_type": "markdown",
   "metadata": {
    "deletable": true,
    "editable": true,
    "slideshow": {
     "slide_type": "slide"
    }
   },
   "source": [
    "## Not Discussed\n",
    "\n",
    "* Compiling Extensions\n",
    "* System Packages (`deb`, `rpm`, `pkg`, etc)\n",
    "* Making executables"
   ]
  },
  {
   "cell_type": "markdown",
   "metadata": {
    "deletable": true,
    "editable": true,
    "slideshow": {
     "slide_type": "slide"
    }
   },
   "source": [
    "## Installing Packages\n",
    "\n",
    "* `pip install requests`\n",
    "* `pip install requests==2.12.0`\n",
    "* Never use `sudo`\n",
    "* Use `--user` outside of a venv"
   ]
  },
  {
   "cell_type": "markdown",
   "metadata": {
    "deletable": true,
    "editable": true,
    "slideshow": {
     "slide_type": "slide"
    }
   },
   "source": [
    "# `pip install my-package`"
   ]
  },
  {
   "cell_type": "markdown",
   "metadata": {
    "deletable": true,
    "editable": true,
    "slideshow": {
     "slide_type": "slide"
    }
   },
   "source": [
    "# Getting Started\n",
    "\n",
    "* `pip install setuptools`\n",
    "* Create `setup.py`"
   ]
  },
  {
   "cell_type": "markdown",
   "metadata": {
    "deletable": true,
    "editable": true,
    "slideshow": {
     "slide_type": "slide"
    }
   },
   "source": [
    "# setup.py briefly\n",
    "\n",
    "\n",
    "```python\n",
    "from setuptools import setup\n",
    "\n",
    "setup(\n",
    "    name=\"distribution-name\",\n",
    "    license=\"Please include me\",\n",
    "    author=\"Your name\",\n",
    "    author_email=\"your email\",\n",
    "    install_requires=[\"...\"],\n",
    "    version=\"semvar pls\",\n",
    "    description=\"short description\"\n",
    ")\n",
    "```"
   ]
  },
  {
   "cell_type": "markdown",
   "metadata": {
    "deletable": true,
    "editable": true,
    "slideshow": {
     "slide_type": "slide"
    }
   },
   "source": [
    "# Structuring a package\n",
    "\n",
    "* Several different variations\n",
    "* Each has pros/cons\n",
    "* Each change `setup.py`"
   ]
  },
  {
   "cell_type": "markdown",
   "metadata": {
    "deletable": true,
    "editable": true,
    "slideshow": {
     "slide_type": "slide"
    }
   },
   "source": [
    "## Single File Structure\n",
    "\n",
    "Just a single Python file to distribute\n",
    "\n",
    "```\n",
    "my-package/\n",
    "├── mypackage.py\n",
    "└── setup.py\n",
    "```"
   ]
  },
  {
   "cell_type": "markdown",
   "metadata": {
    "collapsed": true,
    "deletable": true,
    "editable": true,
    "slideshow": {
     "slide_type": "slide"
    }
   },
   "source": [
    "### setup.py looks like\n",
    "```python\n",
    "setup(\n",
    "    # ...\n",
    "    py_modules=[\"mypackage\"], # importable names\n",
    "    # ...\n",
    ")\n",
    "```"
   ]
  },
  {
   "cell_type": "markdown",
   "metadata": {
    "deletable": true,
    "editable": true,
    "slideshow": {
     "slide_type": "slide"
    }
   },
   "source": [
    "### Pros/Cons\n",
    "\n",
    "* Fairly easy\n",
    "* Everything is all in one directory"
   ]
  },
  {
   "cell_type": "markdown",
   "metadata": {
    "deletable": true,
    "editable": true,
    "slideshow": {
     "slide_type": "slide"
    }
   },
   "source": [
    "## \"Simple\" Structure\n",
    "\n",
    "All code is in a directory\n",
    "\n",
    "```\n",
    "my-package/\n",
    "├── mypackage\n",
    "│   ├── __init__.py\n",
    "│   └── some_code.py\n",
    "└── setup.py\n",
    "```"
   ]
  },
  {
   "cell_type": "markdown",
   "metadata": {
    "collapsed": true,
    "deletable": true,
    "editable": true,
    "slideshow": {
     "slide_type": "slide"
    }
   },
   "source": [
    "### setup.py looks like\n",
    "\n",
    "```python\n",
    "\n",
    "setup(\n",
    "    # ...\n",
    "    packages=['mypackage'], # importable names\n",
    "    # ...\n",
    ")\n",
    "```"
   ]
  },
  {
   "cell_type": "markdown",
   "metadata": {
    "deletable": true,
    "editable": true,
    "slideshow": {
     "slide_type": "slide"
    }
   },
   "source": [
    "### Pros/Cons\n",
    "\n",
    "* Easiest way to package multiple files\n",
    "* Widely used so help is plentiful\n",
    "* Really easy to make and hide install mistakes\n",
    "* No real clear separation between package and other stuff"
   ]
  },
  {
   "cell_type": "markdown",
   "metadata": {
    "deletable": true,
    "editable": true,
    "slideshow": {
     "slide_type": "slide"
    }
   },
   "source": [
    "## \"lib/\" Structure\n",
    "\n",
    "Similar to the \"simple\" structure, except the directory is under another directory (`lib`, `src`, etc)\n",
    "\n",
    "```\n",
    "my-package/\n",
    "├── lib\n",
    "│   └── mypackage\n",
    "│       ├── __init__.py\n",
    "│       └── some_code.py\n",
    "└── setup.py\n",
    "```"
   ]
  },
  {
   "cell_type": "markdown",
   "metadata": {
    "collapsed": true,
    "deletable": true,
    "editable": true,
    "slideshow": {
     "slide_type": "slide"
    }
   },
   "source": [
    "### setup.py looks like\n",
    "\n",
    "```python\n",
    "from setuptools import setup, find_packages\n",
    "\n",
    "setup(\n",
    "    # ...\n",
    "    packages=find_packages('lib'), # importable names\n",
    "    package_dir={'': 'lib'}, # promise of lib/mypackage/__init__.py\n",
    "    # ...\n",
    ")\n",
    "```"
   ]
  },
  {
   "cell_type": "markdown",
   "metadata": {
    "deletable": true,
    "editable": true,
    "slideshow": {
     "slide_type": "slide"
    }
   },
   "source": [
    "### Pros/Cons\n",
    "\n",
    "* Find install mistakes quickly\n",
    "* Very clear separate of package and other stuff\n",
    "* Kind Java-y\n",
    "* WTF is package_dir?"
   ]
  },
  {
   "cell_type": "markdown",
   "metadata": {
    "deletable": true,
    "editable": true,
    "slideshow": {
     "slide_type": "slide"
    }
   },
   "source": [
    "# Building a distribution\n",
    "\n",
    "* `pip install --upgrade setuptools wheel`\n",
    "* `python setup.py sdist bdist_wheel`\n",
    "* Should see `dist` show up in working directory"
   ]
  },
  {
   "cell_type": "markdown",
   "metadata": {
    "deletable": true,
    "editable": true,
    "slideshow": {
     "slide_type": "slide"
    }
   },
   "source": [
    "# Publishing to PyPI\n",
    "\n",
    "We're almost there I swear"
   ]
  },
  {
   "cell_type": "markdown",
   "metadata": {
    "deletable": true,
    "editable": true,
    "slideshow": {
     "slide_type": "slide"
    }
   },
   "source": [
    "## Getting Ready\n",
    "\n",
    "* Register an account on pypi.python.org\n",
    "* Create a `~/.pypirc`\n",
    "* Install twine"
   ]
  },
  {
   "cell_type": "markdown",
   "metadata": {
    "deletable": true,
    "editable": true,
    "slideshow": {
     "slide_type": "slide"
    }
   },
   "source": [
    "## `~/.pypirc`\n",
    "\n",
    "\n",
    "    [distutils]\n",
    "    index-servers =\n",
    "      pypi\n",
    "      test\n",
    "\n",
    "    [pypi]\n",
    "    repository=https://pypi.python.org/pypi\n",
    "    username=...\n",
    "    password=...\n",
    "\n",
    "    [test]\n",
    "    repository=https://testpypi.python.org/pypi\n",
    "    username=...\n",
    "    password=..."
   ]
  },
  {
   "cell_type": "markdown",
   "metadata": {
    "deletable": true,
    "editable": true,
    "slideshow": {
     "slide_type": "slide"
    }
   },
   "source": [
    "## Twine\n",
    "\n",
    "* `pip install twine`\n",
    "* Ensures HTTPS when talking to index server\n",
    "* setuptools used http until 3.3"
   ]
  },
  {
   "cell_type": "markdown",
   "metadata": {
    "deletable": true,
    "editable": true,
    "slideshow": {
     "slide_type": "slide"
    }
   },
   "source": [
    "## Registering your package\n",
    "\n",
    "Example: \n",
    "\n",
    "```bash\n",
    "twine register -r test dist/${PACKAGE}-${VERSION}.tar.gz\n",
    "twine register -r test dist/${PACKAGE}-${VERSION}-${PLATFORM_INFO}.whl\n",
    "```"
   ]
  },
  {
   "cell_type": "markdown",
   "metadata": {
    "deletable": true,
    "editable": true,
    "slideshow": {
     "slide_type": "slide"
    }
   },
   "source": [
    "## Upload it\n",
    "\n",
    "```bash\n",
    "twine upload -r test dist/*\n",
    "```"
   ]
  },
  {
   "cell_type": "markdown",
   "metadata": {
    "deletable": true,
    "editable": true,
    "slideshow": {
     "slide_type": "slide"
    }
   },
   "source": [
    "## Test that upload\n",
    "\n",
    "```bash\n",
    "cd ../someplace/else/\n",
    "pip install -i https://testpypi.python.org/pypi/ ${PACKAGENAME}\n",
    "python -c \"import ${PACKAGENAME}; print(${PACKAGENAME})\"\n",
    "```"
   ]
  },
  {
   "cell_type": "markdown",
   "metadata": {
    "deletable": true,
    "editable": true,
    "slideshow": {
     "slide_type": "slide"
    }
   },
   "source": [
    "## Now do it for real\n",
    "\n",
    "```bash\n",
    "twine register -r pypi dist/...\n",
    "twine upload -r pypi dist/*\n",
    "cd ../someplace/else\n",
    "pip install ${PACKAGENAME}\n",
    "python -c \"import ${PACKAGENAME}; print(${PACKAGENAME})\"\n",
    "```"
   ]
  },
  {
   "cell_type": "markdown",
   "metadata": {
    "deletable": true,
    "editable": true,
    "slideshow": {
     "slide_type": "slide"
    }
   },
   "source": [
    "## Thanks To\n",
    "\n",
    "* https://blog.ionelmc.ro/2014/05/25/python-packaging/\n",
    "* https://hynek.me/articles/testing-packaging/\n",
    "* https://packaging.python.org/"
   ]
  },
  {
   "cell_type": "markdown",
   "metadata": {
    "deletable": true,
    "editable": true,
    "slideshow": {
     "slide_type": "slide"
    }
   },
   "source": [
    "# Questions?"
   ]
  }
 ],
 "metadata": {
  "celltoolbar": "Slideshow",
  "kernelspec": {
   "display_name": "Python 3",
   "language": "python",
   "name": "python3"
  },
  "language_info": {
   "codemirror_mode": {
    "name": "ipython",
    "version": 3
   },
   "file_extension": ".py",
   "mimetype": "text/x-python",
   "name": "python",
   "nbconvert_exporter": "python",
   "pygments_lexer": "ipython3",
   "version": "3.6.0+"
  }
 },
 "nbformat": 4,
 "nbformat_minor": 2
}
